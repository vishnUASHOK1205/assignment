{
  "nbformat": 4,
  "nbformat_minor": 0,
  "metadata": {
    "colab": {
      "provenance": []
    },
    "kernelspec": {
      "name": "python3",
      "display_name": "Python 3"
    },
    "language_info": {
      "name": "python"
    }
  },
  "cells": [
    {
      "cell_type": "code",
      "source": [
        "import pandas as pd\n",
        "from sklearn.model_selection import train_test_split\n",
        "from sklearn.preprocessing import StandardScaler\n",
        "from keras.models import Sequential\n",
        "from keras.layers import Dense\n",
        "\n",
        "# Step 1: Preprocess the Dataset\n",
        "# Load the dataset\n",
        "df = pd.read_csv(\"House Price India.csv\")\n",
        "\n",
        "# Remove unnecessary columns\n",
        "df.drop(['id', 'Date'], axis=1, inplace=True)\n",
        "\n",
        "# Step 2: Build the ANN Model\n",
        "# Split the dataset into features (X) and target variable (y)\n",
        "X = df.drop('Price', axis=1)\n",
        "y = df['Price']\n",
        "\n",
        "# Split the data into training and testing sets\n",
        "X_train, X_test, y_train, y_test = train_test_split(X, y, test_size=0.2, random_state=42)\n",
        "\n",
        "# Scale the features using StandardScaler\n",
        "scaler = StandardScaler()\n",
        "X_train_scaled = scaler.fit_transform(X_train)\n",
        "X_test_scaled = scaler.transform(X_test)\n",
        "\n",
        "# Build the ANN model\n",
        "model = Sequential()\n",
        "model.add(Dense(64, activation='relu', input_shape=(X_train_scaled.shape[1],)))\n",
        "model.add(Dense(64, activation='relu'))\n",
        "model.add(Dense(1))\n",
        "\n",
        "# Compile the model\n",
        "model.compile(optimizer='adam', loss='mean_squared_error')\n",
        "\n",
        "# Step 3: Test the Model\n",
        "# Train the model\n",
        "model.fit(X_train_scaled, y_train, epochs=10, batch_size=32)\n",
        "\n",
        "# Evaluate the model on the test set\n",
        "loss = model.evaluate(X_test_scaled, y_test)\n",
        "print(\"Test Loss:\", loss)\n"
      ],
      "metadata": {
        "colab": {
          "base_uri": "https://localhost:8080/"
        },
        "id": "UmC3GKaEO8cK",
        "outputId": "a032046b-79d4-444e-c80e-13c42c129827"
      },
      "execution_count": null,
      "outputs": [
        {
          "output_type": "stream",
          "name": "stdout",
          "text": [
            "Epoch 1/10\n",
            "366/366 [==============================] - 2s 2ms/step - loss: 422138609664.0000\n",
            "Epoch 2/10\n",
            "366/366 [==============================] - 1s 2ms/step - loss: 410617413632.0000\n",
            "Epoch 3/10\n",
            "366/366 [==============================] - 1s 2ms/step - loss: 372314734592.0000\n",
            "Epoch 4/10\n",
            "366/366 [==============================] - 1s 2ms/step - loss: 305219502080.0000\n",
            "Epoch 5/10\n",
            "366/366 [==============================] - 1s 2ms/step - loss: 226017738752.0000\n",
            "Epoch 6/10\n",
            "366/366 [==============================] - 1s 2ms/step - loss: 158991056896.0000\n",
            "Epoch 7/10\n",
            "366/366 [==============================] - 1s 2ms/step - loss: 116754702336.0000\n",
            "Epoch 8/10\n",
            "366/366 [==============================] - 1s 2ms/step - loss: 94322892800.0000\n",
            "Epoch 9/10\n",
            "366/366 [==============================] - 1s 2ms/step - loss: 82288279552.0000\n",
            "Epoch 10/10\n",
            "366/366 [==============================] - 1s 2ms/step - loss: 75130945536.0000\n",
            "92/92 [==============================] - 0s 1ms/step - loss: 72994856960.0000\n",
            "Test Loss: 72994856960.0\n"
          ]
        }
      ]
    }
  ]
}